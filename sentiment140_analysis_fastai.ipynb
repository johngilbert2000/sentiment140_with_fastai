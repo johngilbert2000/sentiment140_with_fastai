{
 "cells": [
  {
   "cell_type": "markdown",
   "metadata": {},
   "source": [
    "# Sentiment140 Dataset Analysis"
   ]
  },
  {
   "cell_type": "markdown",
   "metadata": {},
   "source": [
    "The Fastai framework was used to generate a NLP model used to predict labels for the Sentiment140 dataset. The Sentiment140 dataset contains 1,600,000 tweets from twitter, labeled from 0 (negative) to 4 (positive), and is available for the purpose of performing sentiment analysis."
   ]
  },
  {
   "cell_type": "markdown",
   "metadata": {},
   "source": [
    "Most of the variable names in this notebook are consistent with Fastai's documentation, found at: https://docs.fast.ai/"
   ]
  },
  {
   "cell_type": "markdown",
   "metadata": {},
   "source": [
    "The Sentiment140 Dataset was obtained from Kaggle at the following link: https://www.kaggle.com/kazanova/sentiment140"
   ]
  },
  {
   "cell_type": "markdown",
   "metadata": {},
   "source": [
    "Note that transfer learning was used with this NLP model. The weights from a pretrained AWD-LSTM language model, stored in Fastai's library, were used as a starting point for this NLP model. The original paper detailing the AWD-LSTM model can be found here: https://arxiv.org/pdf/1708.02182.pdf"
   ]
  },
  {
   "cell_type": "markdown",
   "metadata": {},
   "source": [
    "## Setup"
   ]
  },
  {
   "cell_type": "markdown",
   "metadata": {},
   "source": [
    "Activate a virtual environment, then:"
   ]
  },
  {
   "cell_type": "code",
   "execution_count": null,
   "metadata": {},
   "outputs": [],
   "source": [
    "!pip install fastai"
   ]
  },
  {
   "cell_type": "markdown",
   "metadata": {},
   "source": [
    "## Import Frameworks"
   ]
  },
  {
   "cell_type": "code",
   "execution_count": 1,
   "metadata": {},
   "outputs": [],
   "source": [
    "# Import frameworks\n",
    "\n",
    "%reload_ext autoreload\n",
    "%autoreload 2\n",
    "%matplotlib inline\n",
    "\n",
    "from fastai.text import *"
   ]
  },
  {
   "cell_type": "code",
   "execution_count": null,
   "metadata": {},
   "outputs": [],
   "source": [
    "# Unzip sentiment140.zip from the folder where it is stored (only need to do this once)\n",
    "!unzip \"./data/sentiment/sentiment140.zip\""
   ]
  },
  {
   "cell_type": "markdown",
   "metadata": {},
   "source": [
    "### Data Preparation"
   ]
  },
  {
   "cell_type": "code",
   "execution_count": 2,
   "metadata": {},
   "outputs": [
    {
     "data": {
      "text/html": [
       "<div>\n",
       "<style scoped>\n",
       "    .dataframe tbody tr th:only-of-type {\n",
       "        vertical-align: middle;\n",
       "    }\n",
       "\n",
       "    .dataframe tbody tr th {\n",
       "        vertical-align: top;\n",
       "    }\n",
       "\n",
       "    .dataframe thead th {\n",
       "        text-align: right;\n",
       "    }\n",
       "</style>\n",
       "<table border=\"1\" class=\"dataframe\">\n",
       "  <thead>\n",
       "    <tr style=\"text-align: right;\">\n",
       "      <th></th>\n",
       "      <th>label</th>\n",
       "      <th>text</th>\n",
       "    </tr>\n",
       "  </thead>\n",
       "  <tbody>\n",
       "    <tr>\n",
       "      <th>0</th>\n",
       "      <td>0</td>\n",
       "      <td>@switchfoot http://twitpic.com/2y1zl - Awww, t...</td>\n",
       "    </tr>\n",
       "    <tr>\n",
       "      <th>1</th>\n",
       "      <td>0</td>\n",
       "      <td>is upset that he can't update his Facebook by ...</td>\n",
       "    </tr>\n",
       "    <tr>\n",
       "      <th>2</th>\n",
       "      <td>0</td>\n",
       "      <td>@Kenichan I dived many times for the ball. Man...</td>\n",
       "    </tr>\n",
       "    <tr>\n",
       "      <th>3</th>\n",
       "      <td>0</td>\n",
       "      <td>my whole body feels itchy and like its on fire</td>\n",
       "    </tr>\n",
       "    <tr>\n",
       "      <th>4</th>\n",
       "      <td>0</td>\n",
       "      <td>@nationwideclass no, it's not behaving at all....</td>\n",
       "    </tr>\n",
       "  </tbody>\n",
       "</table>\n",
       "</div>"
      ],
      "text/plain": [
       "   label                                               text\n",
       "0      0  @switchfoot http://twitpic.com/2y1zl - Awww, t...\n",
       "1      0  is upset that he can't update his Facebook by ...\n",
       "2      0  @Kenichan I dived many times for the ball. Man...\n",
       "3      0    my whole body feels itchy and like its on fire \n",
       "4      0  @nationwideclass no, it's not behaving at all...."
      ]
     },
     "execution_count": 2,
     "metadata": {},
     "output_type": "execute_result"
    }
   ],
   "source": [
    "# Read CSV File\n",
    "\n",
    "filename = \"training.1600000.processed.noemoticon.csv\"\n",
    "path = \"\" # The csv gets unzipped to the current directory\n",
    "df = pd.read_csv(filename, header=None, usecols=[0,5], names=[\"label\",\"text\"], encoding='latin-1')\n",
    "\n",
    "df.head() # show part of file"
   ]
  },
  {
   "cell_type": "markdown",
   "metadata": {},
   "source": [
    "#### Organize Data for Language & Classification Models"
   ]
  },
  {
   "cell_type": "code",
   "execution_count": 3,
   "metadata": {},
   "outputs": [
    {
     "data": {
      "text/plain": [
       "(1119999, 320000, 160001)"
      ]
     },
     "execution_count": 3,
     "metadata": {},
     "output_type": "execute_result"
    }
   ],
   "source": [
    "# Prepare Dataframe into Training, Validation, and Test Sets\n",
    "\n",
    "# Randomize data\n",
    "df = df.iloc[np.random.permutation(len(df))]\n",
    "\n",
    "# Percent of original dataframe\n",
    "test_pct = 0.1\n",
    "valid_pct = 0.2\n",
    "\n",
    "# Masks for separating dataframe sets\n",
    "cut_test = int(test_pct * len(df))+1\n",
    "cut_valid = int(valid_pct*len(df))+cut_test\n",
    "\n",
    "train_df = df[cut_valid:]\n",
    "valid_df = df[cut_test:cut_valid]\n",
    "test_df = df[:cut_test]\n",
    "\n",
    "len(train_df), len(valid_df), len(test_df) # show lengths of each set"
   ]
  },
  {
   "cell_type": "code",
   "execution_count": 4,
   "metadata": {},
   "outputs": [
    {
     "data": {
      "text/html": [
       "<table border=\"1\" class=\"dataframe\">\n",
       "  <thead>\n",
       "    <tr style=\"text-align: right;\">\n",
       "      <th>idx</th>\n",
       "      <th>text</th>\n",
       "    </tr>\n",
       "  </thead>\n",
       "  <tbody>\n",
       "    <tr>\n",
       "      <td>0</td>\n",
       "      <td>sweet ! xxmaj haha but here i am lying in bed feeling super sick xxbos xxup wtf .. xxmaj now we got lightning but no thunder &amp; &amp; no rain ... xxmaj spooky xxbos xxmaj whoohoo ! update from phone . xxbos thinks up was the best animated movie in the world . xxmaj happy the xxup 3-d was low key xxbos xxunk xxup :o xxmaj what is this creepy</td>\n",
       "    </tr>\n",
       "    <tr>\n",
       "      <td>1</td>\n",
       "      <td>nt have it . xxbos xxmaj xxunk tomorrow is monday ! xxmaj counting my days to xxunk date of xxup moe xxbos debating on going outside xxbos xxunk xxmaj it 's 65 xxmaj my subscription ends xxmaj may 15th . n xxrep 6 o ! i need money :'( xxbos xxmaj donna your sister - in - law xxrep 4 . you must make the reunion next year . xxmaj</td>\n",
       "    </tr>\n",
       "    <tr>\n",
       "      <td>2</td>\n",
       "      <td>n't gotten a good night sleep since this season started xxbos xxunk xxmaj that 's awful . xxmaj how do you think they got in ? xxbos all house chores complete bored now luckily still very excited about j so he keeping me smiling xxbos xxunk partying at the xxmaj xxunk http : / / tinyurl.com / xxunk xxbos i can finally say that im ... xxup happy ! !</td>\n",
       "    </tr>\n",
       "    <tr>\n",
       "      <td>3</td>\n",
       "      <td>as stressed xxunk 2 my parents , they are now driving to xxmaj portsmouth as my aunt died xxbos @mileycyrus mmm what feeling girl ? ? lov ya and if u need help , i 'm here ! kisses from argentina &lt;333 xxbos @katehughes xxmaj you 've got a plastic penguin ? xxmaj so jealous xxbos 5th year timetable is balls double english then double maths tomorrow .. not looking</td>\n",
       "    </tr>\n",
       "    <tr>\n",
       "      <td>4</td>\n",
       "      <td>4 a tax accountant xxbos xxunk i recieved a voice message about a child i apparently am not taking care of xxbos just played some football , i scored a few so i m happy , now gunna watch some one tree hill xxbos xxunk i ai nt even trying to shout lol xxwrep 4 x i do nt even sound husky sexy , @faulko1 says more xxunk / ashley</td>\n",
       "    </tr>\n",
       "  </tbody>\n",
       "</table>"
      ],
      "text/plain": [
       "<IPython.core.display.HTML object>"
      ]
     },
     "metadata": {},
     "output_type": "display_data"
    }
   ],
   "source": [
    "# Initialize Language Model Data\n",
    "\n",
    "data_lm = TextLMDataBunch.from_df(path=path,train_df=train_df,\n",
    "                                  valid_df=valid_df,test_df=test_df)\n",
    "data_lm.save('data_lm_export.pkl')\n",
    "\n",
    "data_lm.show_batch() # show batch of language model data"
   ]
  },
  {
   "cell_type": "code",
   "execution_count": 5,
   "metadata": {},
   "outputs": [
    {
     "data": {
      "text/html": [
       "<table border=\"1\" class=\"dataframe\">\n",
       "  <thead>\n",
       "    <tr style=\"text-align: right;\">\n",
       "      <th>text</th>\n",
       "      <th>target</th>\n",
       "    </tr>\n",
       "  </thead>\n",
       "  <tbody>\n",
       "    <tr>\n",
       "      <td>xxbos human shield à ® à ® © à¯?à ® xxunk à ® xxunk ® ±à¯?à ® xxunk ® à ® ° xxunk à ® à ® © à¯?à ® xxunk ? à ® ® à ® ±à¯?à ® ªà ® à ® ¿à ® xxunk ® ® à¯ ? à ® xxunk ® à ® à ® à¯?à ® à ® xxunk ® ¿à ® xxunk ? ( à</td>\n",
       "      <td>0</td>\n",
       "    </tr>\n",
       "    <tr>\n",
       "      <td>xxbos xxup ma xxup mummy xxup got xxup my xxup clan xxup hoodie xxup today ! ! ! xxup she xxup opened xxup it xxup for xxup me xxup and xxup now xxup she xxup wants xxup to xxup keep xxup it xxup no xxup way ! ! xxup it xxup has a xxup note xxup from xxup pete , xxup something xxup about</td>\n",
       "      <td>4</td>\n",
       "    </tr>\n",
       "    <tr>\n",
       "      <td>xxbos xxmaj wake xxmaj up ! @kbuech : &amp; ' xxmaj gun 's &amp; &amp; xxmaj roses - &amp; ' xxmaj sweet xxmaj child o ' xxmaj mine &amp; ' ( xxmaj music xxmaj video ) xxup good xxup morning xxunk : xxmaj good mo ... â « http : / / blip.fm / xxunk</td>\n",
       "      <td>4</td>\n",
       "    </tr>\n",
       "    <tr>\n",
       "      <td>xxbos http : / / tr.im / xxunk ï¿½ xxmaj xxunk ? xxmaj not xxmaj belong xxmaj here ( xxmaj xxunk a xxmaj remix ) , xxrep 5 ? xxrep 8 ? xxrep 4 ? , xxrep 7 ? xxrep 9 ? ? ? xxrep 4 ? xxrep 5 ?</td>\n",
       "      <td>4</td>\n",
       "    </tr>\n",
       "    <tr>\n",
       "      <td>xxbos xxmaj alt . xxmaj christ - on - a - bike - athon going v badly . xxmaj xxunk on a moped ? xxmaj jehovah in a landrover ? xxmaj xxunk in a .. van ? xxmaj ra in a xxmaj car ? xxmaj zeus on a bus ?</td>\n",
       "      <td>0</td>\n",
       "    </tr>\n",
       "  </tbody>\n",
       "</table>"
      ],
      "text/plain": [
       "<IPython.core.display.HTML object>"
      ]
     },
     "metadata": {},
     "output_type": "display_data"
    }
   ],
   "source": [
    "# Initialize Classification Model Data\n",
    "\n",
    "data_clas = TextClasDataBunch.from_df(path=path,train_df=train_df, valid_df=valid_df,\n",
    "                                      test_df=test_df, vocab=data_lm.train_ds.vocab)\n",
    "data_clas.save('data_clas_export.pkl')\n",
    "\n",
    "data_clas.show_batch() # show batch of classification model data"
   ]
  },
  {
   "cell_type": "markdown",
   "metadata": {},
   "source": [
    "Note the following tokens are automatically used by fastai's DataBunch class:\n",
    "- UNK (xxunk) is for an unknown word (one that isn't present in the current vocabulary)\n",
    "- PAD (xxpad) is the token used for padding, if we need to regroup several texts of different lengths in a batch\n",
    "- BOS (xxbos) represents the beginning of a text in your dataset\n",
    "- FLD (xxfld) is used if you set mark_fields=True in your TokenizeProcessor to separate the different fields of texts (if your texts are loaded from several columns in a dataframe)\n",
    "- TK_MAJ (xxmaj) is used to indicate the next word begins with a capital in the original text\n",
    "- TK_UP (xxup) is used to indicate the next word is written in all caps in the original text\n",
    "- TK_REP (xxrep) is used to indicate the next character is repeated n times in the original text (usage xxrep n {char})\n",
    "- TK_WREP(xxwrep) is used to indicate the next word is repeated n times in the original text (usage xxwrep n {word})\n"
   ]
  },
  {
   "cell_type": "markdown",
   "metadata": {},
   "source": [
    "#### Load Previously Initialized Data"
   ]
  },
  {
   "cell_type": "markdown",
   "metadata": {},
   "source": [
    "Once the data has been organized and saved, the following cell can be used whenever the kernel is restarted (allowing you to skip all the steps under \"Organize Data\" above)"
   ]
  },
  {
   "cell_type": "code",
   "execution_count": 3,
   "metadata": {},
   "outputs": [],
   "source": [
    "# Load Previously Initialized Model Data\n",
    "\n",
    "data_lm = load_data(path, 'data_lm_export.pkl')\n",
    "data_clas = load_data(path, 'data_clas_export.pkl', bs=16)"
   ]
  },
  {
   "cell_type": "code",
   "execution_count": 5,
   "metadata": {},
   "outputs": [
    {
     "data": {
      "text/html": [
       "<table border=\"1\" class=\"dataframe\">\n",
       "  <thead>\n",
       "    <tr style=\"text-align: right;\">\n",
       "      <th>text</th>\n",
       "      <th>target</th>\n",
       "    </tr>\n",
       "  </thead>\n",
       "  <tbody>\n",
       "    <tr>\n",
       "      <td>xxbos human shield à ® xxunk ® © à¯?à ® xxunk à ® xxunk ® xxunk ® xxunk ® à ® ° xxunk à ® xxunk ® © à¯?à ® xxunk ? à ® ® à ® xxunk ® ªà ® à ® ¿à ® xxunk ® ® à¯ ? à ® xxunk ® à ® à ® xxunk ® à ® xxunk ® ¿à ® xxunk ? ( à</td>\n",
       "      <td>0</td>\n",
       "    </tr>\n",
       "    <tr>\n",
       "      <td>xxbos ' xxmaj xxunk xxmaj xxunk 's q xxmaj and a ' and ' xxmaj the xxmaj white xxmaj tiger ' are the # books in my dad 's next plans to buy . xxmaj yippie ! ! i too can read them</td>\n",
       "      <td>4</td>\n",
       "    </tr>\n",
       "    <tr>\n",
       "      <td>xxbos xxmaj hope every1 is havin a good time in xxup nyc for the xxup pr parade after parties ... i 'm at xxmaj mansion wit my xxmaj baby and my xxmaj xxunk xxmaj happy xxmaj bday 2 xxup me</td>\n",
       "      <td>4</td>\n",
       "    </tr>\n",
       "    <tr>\n",
       "      <td>xxbos is sitting at xxmaj beckie 's watching an xxmaj angel game . i do n't know if it 's today 's game or not . xxmaj and i can not find the remote . xxmaj phone is dead .</td>\n",
       "      <td>0</td>\n",
       "    </tr>\n",
       "    <tr>\n",
       "      <td>xxbos xxunk xxup whats xxup going xxup on ? ! xxmaj ah , haha . xxmaj ca n't he just tell me what 's up . xxmaj now only xxup two of his cousins are in front of me ...</td>\n",
       "      <td>4</td>\n",
       "    </tr>\n",
       "  </tbody>\n",
       "</table>"
      ],
      "text/plain": [
       "<IPython.core.display.HTML object>"
      ]
     },
     "metadata": {},
     "output_type": "display_data"
    },
    {
     "data": {
      "text/html": [
       "<table border=\"1\" class=\"dataframe\">\n",
       "  <thead>\n",
       "    <tr style=\"text-align: right;\">\n",
       "      <th>idx</th>\n",
       "      <th>text</th>\n",
       "    </tr>\n",
       "  </thead>\n",
       "  <tbody>\n",
       "    <tr>\n",
       "      <td>0</td>\n",
       "      <td>. xxbos xxunk i have it on dvr if you wish to partake xxbos i found a xxup huge bag of skittles when i went downstairs , and i dug right in ... now my teeth hurt xxrep 4 . lol xxbos xxmaj ordered my customized shirt on xxunk xxbos i d be better off without weather like this .. xxmaj sittin in the water heater closet in the garage</td>\n",
       "    </tr>\n",
       "    <tr>\n",
       "      <td>1</td>\n",
       "      <td>made grant pinky promise me not to touch any girls ' butts at the eighth grade dance hahah i always have a good time at markie 's house xxbos can not sleep xxbos xxmaj now i 've stopped using it because the xxup ui xxup really needs polish . xxmaj miss a key and you click the mouse = bad xxup ui design . xxmaj awkward xxmaj keyboard layout xxbos</td>\n",
       "    </tr>\n",
       "    <tr>\n",
       "      <td>2</td>\n",
       "      <td>xxmaj xxunk xxmaj way : http : / / bit.ly / xxunk xxmaj great interview ! xxbos xxunk ditto 46 = d xxbos xxmaj worked a xxmaj regional xxmaj special xxmaj olympics event today handing out medals to the athletes xxmaj awesome ! xxmaj amazing kids and adults xxbos stupid rain , now our picnic is cancelled till tomorrow xxbos xxunk xxmaj wow ! i am impressed xxmaj pastor xxmaj</td>\n",
       "    </tr>\n",
       "    <tr>\n",
       "      <td>3</td>\n",
       "      <td>_ did you tell your mom bout our xxunk twins thing ? xxbos xxup is xxup really xxup not xxup happy xxup with xxup all xxup the xxup gnat xxup bites xxup on xxup my xxup legs xxbos xxmaj back xxunk work , my back if bloody killing me and i 'm in dire need of coffee and some pain relief xxbos xxmaj the rain xxunk to xxmaj dallas .</td>\n",
       "    </tr>\n",
       "    <tr>\n",
       "      <td>4</td>\n",
       "      <td>xxmaj xxunk &amp; ' xxbos happy friday to all of my early morning tweetie pies xxrep 4 . today is gon na be a good day ... i can feel it xxbos xxunk xxmaj thanks ! i guess i 'm almost done with the 1st trimester . 10 weeks or so ? xxmaj it 's # 3 so we 'll see how that goes . xxbos xxunk xxmaj that 's</td>\n",
       "    </tr>\n",
       "  </tbody>\n",
       "</table>"
      ],
      "text/plain": [
       "<IPython.core.display.HTML object>"
      ]
     },
     "metadata": {},
     "output_type": "display_data"
    },
    {
     "data": {
      "text/plain": [
       "(None, None)"
      ]
     },
     "execution_count": 5,
     "metadata": {},
     "output_type": "execute_result"
    }
   ],
   "source": [
    "data_clas.show_batch(), data_lm.show_batch()"
   ]
  },
  {
   "cell_type": "markdown",
   "metadata": {},
   "source": [
    "## Model Training"
   ]
  },
  {
   "cell_type": "markdown",
   "metadata": {},
   "source": [
    "### Language Model"
   ]
  },
  {
   "cell_type": "markdown",
   "metadata": {},
   "source": [
    "\n",
    "\n",
    "The following structure was used with fastai's language_model_learner.\n",
    "\n",
    "AWD_LSTM is a pretrained model stored in fastai\n",
    "\n",
    "    model=SequentialRNN(\n",
    "      (0): AWD_LSTM(\n",
    "        (encoder): Embedding(60000, 400, padding_idx=1)\n",
    "        (encoder_dp): EmbeddingDropout(\n",
    "          (emb): Embedding(60000, 400, padding_idx=1)\n",
    "        )\n",
    "        (rnns): ModuleList(\n",
    "          (0): WeightDropout(\n",
    "            (module): LSTM(400, 1152, batch_first=True)\n",
    "          )\n",
    "          (1): WeightDropout(\n",
    "            (module): LSTM(1152, 1152, batch_first=True)\n",
    "          )\n",
    "          (2): WeightDropout(\n",
    "            (module): LSTM(1152, 400, batch_first=True)\n",
    "          )\n",
    "        )\n",
    "        (input_dp): RNNDropout()\n",
    "        (hidden_dps): ModuleList(\n",
    "          (0): RNNDropout()\n",
    "          (1): RNNDropout()\n",
    "          (2): RNNDropout()\n",
    "        )\n",
    "      )\n",
    "      (1): LinearDecoder(\n",
    "        (decoder): Linear(in_features=400, out_features=60000, bias=True)\n",
    "        (output_dp): RNNDropout()\n",
    "      )\n",
    "    ), opt_func=functools.partial(<class 'torch.optim.adam.Adam'>, betas=(0.9, 0.99)), loss_func=FlattenedLoss of CrossEntropyLoss(), metrics=[<function accuracy at 0x7fa11278d170>], true_wd=True, bn_wd=True, wd=0.01, train_bn=True, path=PosixPath('.'), model_dir='models', callback_fns=[functools.partial(<class 'fastai.basic_train.Recorder'>, add_time=True, silent=False)], callbacks=[RNNTrainer\n",
    "    learn: ...\n",
    "    alpha: 2.0\n",
    "    beta: 1.0], layer_groups=[Sequential(\n",
    "      (0): WeightDropout(\n",
    "        (module): LSTM(400, 1152, batch_first=True)\n",
    "      )\n",
    "      (1): RNNDropout()\n",
    "    ), Sequential(\n",
    "      (0): WeightDropout(\n",
    "        (module): LSTM(1152, 1152, batch_first=True)\n",
    "      )\n",
    "      (1): RNNDropout()\n",
    "    ), Sequential(\n",
    "      (0): WeightDropout(\n",
    "        (module): LSTM(1152, 400, batch_first=True)\n",
    "      )\n",
    "      (1): RNNDropout()\n",
    "    ), Sequential(\n",
    "      (0): Embedding(60000, 400, padding_idx=1)\n",
    "      (1): EmbeddingDropout(\n",
    "        (emb): Embedding(60000, 400, padding_idx=1)\n",
    "      )\n",
    "      (2): LinearDecoder(\n",
    "        (decoder): Linear(in_features=400, out_features=60000, bias=True)\n",
    "        (output_dp): RNNDropout()\n",
    "      )\n",
    "    )], add_time=True, silent=False, cb_fns_registered=False)"
   ]
  },
  {
   "cell_type": "markdown",
   "metadata": {},
   "source": [
    " "
   ]
  },
  {
   "cell_type": "code",
   "execution_count": 6,
   "metadata": {},
   "outputs": [
    {
     "data": {
      "text/html": [],
      "text/plain": [
       "<IPython.core.display.HTML object>"
      ]
     },
     "metadata": {},
     "output_type": "display_data"
    },
    {
     "name": "stdout",
     "output_type": "stream",
     "text": [
      "LR Finder is complete, type {learner_name}.recorder.plot() to see the graph.\n",
      "Min numerical gradient: 3.98E-02\n",
      "Min loss divided by 10: 3.63E-02\n"
     ]
    },
    {
     "data": {
      "image/png": "[encoded data removed]",
      "text/plain": [
       "<Figure size 432x288 with 1 Axes>"
      ]
     },
     "metadata": {
      "needs_background": "light"
     },
     "output_type": "display_data"
    }
   ],
   "source": [
    "learn = language_model_learner(data_lm, AWD_LSTM, drop_mult=0.3)\n",
    "learn.lr_find()\n",
    "learn.recorder.plot(skip_start=30,skip_end=12,suggestion=True)"
   ]
  },
  {
   "cell_type": "code",
   "execution_count": 7,
   "metadata": {},
   "outputs": [
    {
     "data": {
      "text/html": [
       "<table border=\"1\" class=\"dataframe\">\n",
       "  <thead>\n",
       "    <tr style=\"text-align: left;\">\n",
       "      <th>epoch</th>\n",
       "      <th>train_loss</th>\n",
       "      <th>valid_loss</th>\n",
       "      <th>accuracy</th>\n",
       "      <th>time</th>\n",
       "    </tr>\n",
       "  </thead>\n",
       "  <tbody>\n",
       "    <tr>\n",
       "      <td>0</td>\n",
       "      <td>4.492013</td>\n",
       "      <td>4.349950</td>\n",
       "      <td>0.241083</td>\n",
       "      <td>38:55</td>\n",
       "    </tr>\n",
       "  </tbody>\n",
       "</table>"
      ],
      "text/plain": [
       "<IPython.core.display.HTML object>"
      ]
     },
     "metadata": {},
     "output_type": "display_data"
    }
   ],
   "source": [
    "learn.fit_one_cycle(1, 1e-2, moms=(0.8,0.7))\n",
    "learn.save('sentiment_head')"
   ]
  },
  {
   "cell_type": "code",
   "execution_count": 8,
   "metadata": {},
   "outputs": [
    {
     "data": {
      "text/html": [],
      "text/plain": [
       "<IPython.core.display.HTML object>"
      ]
     },
     "metadata": {},
     "output_type": "display_data"
    },
    {
     "name": "stdout",
     "output_type": "stream",
     "text": [
      "LR Finder is complete, type {learner_name}.recorder.plot() to see the graph.\n",
      "Min numerical gradient: 8.32E-04\n",
      "Min loss divided by 10: 1.45E-04\n"
     ]
    },
    {
     "data": {
      "image/png": "[encoded data removed]",
      "text/plain": [
       "<Figure size 432x288 with 1 Axes>"
      ]
     },
     "metadata": {
      "needs_background": "light"
     },
     "output_type": "display_data"
    }
   ],
   "source": [
    "learn.load('sentiment_head')\n",
    "learn.lr_find()\n",
    "learn.recorder.plot(skip_start=45,skip_end=15,suggestion=True)"
   ]
  },
  {
   "cell_type": "code",
   "execution_count": 13,
   "metadata": {},
   "outputs": [
    {
     "name": "stdout",
     "output_type": "stream",
     "text": [
      "Min numerical gradient: 1.91E-04\n",
      "Min loss divided by 10: 6.31E-08\n"
     ]
    },
    {
     "data": {
      "image/png": "[encoded data removed]",
      "text/plain": [
       "<Figure size 432x288 with 1 Axes>"
      ]
     },
     "metadata": {
      "needs_background": "light"
     },
     "output_type": "display_data"
    }
   ],
   "source": [
    "learn.recorder.plot(skip_start=10,skip_end=25,suggestion=True)"
   ]
  },
  {
   "cell_type": "code",
   "execution_count": 14,
   "metadata": {},
   "outputs": [],
   "source": [
    "lr = 1e-3 # learning rate"
   ]
  },
  {
   "cell_type": "code",
   "execution_count": 15,
   "metadata": {},
   "outputs": [
    {
     "data": {
      "text/plain": [
       "\"What on earth is always a matter to each , now we think the name ? There are 2 times in the world when people use them xxbos Just waiting to do things to go ! http : / / tr.im / sunnyinseattle xxbos Sometimes ... xxbos My internet connection has nt been the same lately . Damn ... So proud of today ! . i feel a little bit sorry to see you when that happens . http : / / bit.ly / votetom spread the word ! ! It 's cold . xxbos no\""
      ]
     },
     "execution_count": 15,
     "metadata": {},
     "output_type": "execute_result"
    }
   ],
   "source": [
    "learn.predict(\"What on earth is\",100,temperature=1.1,min_p=0.001)"
   ]
  },
  {
   "cell_type": "code",
   "execution_count": 16,
   "metadata": {},
   "outputs": [
    {
     "data": {
      "text/html": [
       "<table border=\"1\" class=\"dataframe\">\n",
       "  <thead>\n",
       "    <tr style=\"text-align: left;\">\n",
       "      <th>epoch</th>\n",
       "      <th>train_loss</th>\n",
       "      <th>valid_loss</th>\n",
       "      <th>accuracy</th>\n",
       "      <th>time</th>\n",
       "    </tr>\n",
       "  </thead>\n",
       "  <tbody>\n",
       "    <tr>\n",
       "      <td>0</td>\n",
       "      <td>4.066004</td>\n",
       "      <td>4.010943</td>\n",
       "      <td>0.281111</td>\n",
       "      <td>44:10</td>\n",
       "    </tr>\n",
       "  </tbody>\n",
       "</table>"
      ],
      "text/plain": [
       "<IPython.core.display.HTML object>"
      ]
     },
     "metadata": {},
     "output_type": "display_data"
    }
   ],
   "source": [
    "learn.unfreeze()\n",
    "learn.fit_one_cycle(1, lr, moms=(0.8,0.7)) # could train this for more epochs...\n",
    "learn.save('sentiment_tuned')\n",
    "learn.save_encoder('sentiment_enc')"
   ]
  },
  {
   "cell_type": "code",
   "execution_count": 17,
   "metadata": {},
   "outputs": [
    {
     "data": {
      "text/plain": [
       "\"What on earth is wrong with all of you ? ? ? Why oh why oh why do n't we all feel like xxbos Woke up and had to study for maths but i do n't mind . One more lesson ... xxbos my leg is sore from biking with the cab . xxbos just took a long walk away from the office it was the best of you there is no fair * * * xxbos Playing in front of some random people . Just curious to hear it xxbos is n't going to my school till 3\""
      ]
     },
     "execution_count": 17,
     "metadata": {},
     "output_type": "execute_result"
    }
   ],
   "source": [
    "learn.predict(\"What on earth is\",100,temperature=1.1,min_p=0.001)"
   ]
  },
  {
   "cell_type": "markdown",
   "metadata": {},
   "source": [
    "## Classification"
   ]
  },
  {
   "cell_type": "markdown",
   "metadata": {},
   "source": [
    "### Model Structure\n",
    "\n",
    "The following model structure was used with fastai's text_classifier_learner\n",
    "\n",
    "      (0): MultiBatchEncoder(\n",
    "        (module): AWD_LSTM(\n",
    "          (encoder): Embedding(60000, 400, padding_idx=1)\n",
    "          (encoder_dp): EmbeddingDropout(\n",
    "            (emb): Embedding(60000, 400, padding_idx=1)\n",
    "          )\n",
    "          (rnns): ModuleList(\n",
    "            (0): WeightDropout(\n",
    "              (module): LSTM(400, 1152, batch_first=True)\n",
    "            )\n",
    "            (1): WeightDropout(\n",
    "              (module): LSTM(1152, 1152, batch_first=True)\n",
    "            )\n",
    "            (2): WeightDropout(\n",
    "              (module): LSTM(1152, 400, batch_first=True)\n",
    "            )\n",
    "          )\n",
    "          (input_dp): RNNDropout()\n",
    "          (hidden_dps): ModuleList(\n",
    "            (0): RNNDropout()\n",
    "            (1): RNNDropout()\n",
    "            (2): RNNDropout()\n",
    "          )\n",
    "        )\n",
    "      )\n",
    "      (1): PoolingLinearClassifier(\n",
    "        (layers): Sequential(\n",
    "          (0): BatchNorm1d(1200, eps=1e-05, momentum=0.1, affine=True, track_running_stats=True)\n",
    "          (1): Dropout(p=0.2)\n",
    "          (2): Linear(in_features=1200, out_features=50, bias=True)\n",
    "          (3): ReLU(inplace)\n",
    "          (4): BatchNorm1d(50, eps=1e-05, momentum=0.1, affine=True, track_running_stats=True)\n",
    "          (5): Dropout(p=0.1)\n",
    "          (6): Linear(in_features=50, out_features=2, bias=True)\n",
    "        )\n",
    "      )\n",
    "    ), opt_func=functools.partial(<class 'torch.optim.adam.Adam'>, betas=(0.9, 0.99)), loss_func=FlattenedLoss of CrossEntropyLoss(), metrics=[<function accuracy at 0x7fa11278d170>], true_wd=True, bn_wd=True, wd=0.01, train_bn=True, path=PosixPath('.'), model_dir='models', callback_fns=[functools.partial(<class 'fastai.basic_train.Recorder'>, add_time=True, silent=False)], callbacks=[RNNTrainer\n",
    "    learn: ...\n",
    "    alpha: 2.0\n",
    "    beta: 1.0], layer_groups=[Sequential(\n",
    "      (0): Embedding(60000, 400, padding_idx=1)\n",
    "      (1): EmbeddingDropout(\n",
    "        (emb): Embedding(60000, 400, padding_idx=1)\n",
    "      )\n",
    "    ), Sequential(\n",
    "      (0): WeightDropout(\n",
    "        (module): LSTM(400, 1152, batch_first=True)\n",
    "      )\n",
    "      (1): RNNDropout()\n",
    "    ), Sequential(\n",
    "      (0): WeightDropout(\n",
    "        (module): LSTM(1152, 1152, batch_first=True)\n",
    "      )\n",
    "      (1): RNNDropout()\n",
    "    ), Sequential(\n",
    "      (0): WeightDropout(\n",
    "        (module): LSTM(1152, 400, batch_first=True)\n",
    "      )\n",
    "      (1): RNNDropout()\n",
    "    ), Sequential(\n",
    "      (0): PoolingLinearClassifier(\n",
    "        (layers): Sequential(\n",
    "          (0): BatchNorm1d(1200, eps=1e-05, momentum=0.1, affine=True, track_running_stats=True)\n",
    "          (1): Dropout(p=0.2)\n",
    "          (2): Linear(in_features=1200, out_features=50, bias=True)\n",
    "          (3): ReLU(inplace)\n",
    "          (4): BatchNorm1d(50, eps=1e-05, momentum=0.1, affine=True, track_running_stats=True)\n",
    "          (5): Dropout(p=0.1)\n",
    "          (6): Linear(in_features=50, out_features=2, bias=True)\n",
    "        )\n",
    "      )\n",
    "    )], add_time=True, silent=False, cb_fns_registered=True)"
   ]
  },
  {
   "cell_type": "code",
   "execution_count": 18,
   "metadata": {},
   "outputs": [
    {
     "data": {
      "text/html": [],
      "text/plain": [
       "<IPython.core.display.HTML object>"
      ]
     },
     "metadata": {},
     "output_type": "display_data"
    },
    {
     "name": "stdout",
     "output_type": "stream",
     "text": [
      "LR Finder is complete, type {learner_name}.recorder.plot() to see the graph.\n",
      "Min numerical gradient: 1.74E-03\n",
      "Min loss divided by 10: 2.09E-02\n"
     ]
    },
    {
     "data": {
      "image/png": "[encoded data removed]",
      "text/plain": [
       "<Figure size 432x288 with 1 Axes>"
      ]
     },
     "metadata": {
      "needs_background": "light"
     },
     "output_type": "display_data"
    }
   ],
   "source": [
    "learn = text_classifier_learner(data_clas, AWD_LSTM, drop_mult=0.5)\n",
    "learn.load_encoder('sentiment_enc')\n",
    "learn.lr_find()\n",
    "learn.recorder.plot(skip_start=35,skip_end=14,suggestion=True)"
   ]
  },
  {
   "cell_type": "code",
   "execution_count": 19,
   "metadata": {},
   "outputs": [
    {
     "name": "stdout",
     "output_type": "stream",
     "text": [
      "Min numerical gradient: 1.74E-03\n",
      "Min loss divided by 10: 2.51E-02\n"
     ]
    },
    {
     "data": {
      "image/png": "[encoded data removed]",
      "text/plain": [
       "<Figure size 432x288 with 1 Axes>"
      ]
     },
     "metadata": {
      "needs_background": "light"
     },
     "output_type": "display_data"
    }
   ],
   "source": [
    "learn.recorder.plot(suggestion=True)"
   ]
  },
  {
   "cell_type": "code",
   "execution_count": 20,
   "metadata": {},
   "outputs": [
    {
     "data": {
      "text/html": [
       "<table border=\"1\" class=\"dataframe\">\n",
       "  <thead>\n",
       "    <tr style=\"text-align: left;\">\n",
       "      <th>epoch</th>\n",
       "      <th>train_loss</th>\n",
       "      <th>valid_loss</th>\n",
       "      <th>accuracy</th>\n",
       "      <th>time</th>\n",
       "    </tr>\n",
       "  </thead>\n",
       "  <tbody>\n",
       "    <tr>\n",
       "      <td>0</td>\n",
       "      <td>0.448023</td>\n",
       "      <td>0.403974</td>\n",
       "      <td>0.814572</td>\n",
       "      <td>10:50</td>\n",
       "    </tr>\n",
       "  </tbody>\n",
       "</table>"
      ],
      "text/plain": [
       "<IPython.core.display.HTML object>"
      ]
     },
     "metadata": {},
     "output_type": "display_data"
    }
   ],
   "source": [
    "learn.fit_one_cycle(1, 2e-2, moms=(0.8,0.7))\n",
    "learn.save('sentiment_first')"
   ]
  },
  {
   "cell_type": "code",
   "execution_count": 24,
   "metadata": {},
   "outputs": [
    {
     "data": {
      "text/html": [
       "<table border=\"1\" class=\"dataframe\">\n",
       "  <thead>\n",
       "    <tr style=\"text-align: left;\">\n",
       "      <th>epoch</th>\n",
       "      <th>train_loss</th>\n",
       "      <th>valid_loss</th>\n",
       "      <th>accuracy</th>\n",
       "      <th>time</th>\n",
       "    </tr>\n",
       "  </thead>\n",
       "  <tbody>\n",
       "    <tr>\n",
       "      <td>0</td>\n",
       "      <td>0.385381</td>\n",
       "      <td>0.366896</td>\n",
       "      <td>0.846656</td>\n",
       "      <td>11:53</td>\n",
       "    </tr>\n",
       "  </tbody>\n",
       "</table>"
      ],
      "text/plain": [
       "<IPython.core.display.HTML object>"
      ]
     },
     "metadata": {},
     "output_type": "display_data"
    }
   ],
   "source": [
    "learn.load('sentiment_first');\n",
    "learn.freeze_to(-2)\n",
    "learn.fit_one_cycle(1, slice(1e-2/(2.6**4),1e-2), moms=(0.8,0.7))\n",
    "learn.save('sentiment_second')"
   ]
  },
  {
   "cell_type": "code",
   "execution_count": 25,
   "metadata": {},
   "outputs": [
    {
     "data": {
      "text/html": [
       "<table border=\"1\" class=\"dataframe\">\n",
       "  <thead>\n",
       "    <tr style=\"text-align: left;\">\n",
       "      <th>epoch</th>\n",
       "      <th>train_loss</th>\n",
       "      <th>valid_loss</th>\n",
       "      <th>accuracy</th>\n",
       "      <th>time</th>\n",
       "    </tr>\n",
       "  </thead>\n",
       "  <tbody>\n",
       "    <tr>\n",
       "      <td>0</td>\n",
       "      <td>0.368541</td>\n",
       "      <td>0.326588</td>\n",
       "      <td>0.857725</td>\n",
       "      <td>19:18</td>\n",
       "    </tr>\n",
       "  </tbody>\n",
       "</table>"
      ],
      "text/plain": [
       "<IPython.core.display.HTML object>"
      ]
     },
     "metadata": {},
     "output_type": "display_data"
    }
   ],
   "source": [
    "learn.load('sentiment_second');\n",
    "learn.freeze_to(-3)\n",
    "learn.fit_one_cycle(1, slice(5e-3/(2.6**4),5e-3), moms=(0.8,0.7))\n",
    "learn.save('sentiment_third')"
   ]
  },
  {
   "cell_type": "code",
   "execution_count": 26,
   "metadata": {},
   "outputs": [
    {
     "data": {
      "text/html": [
       "<table border=\"1\" class=\"dataframe\">\n",
       "  <thead>\n",
       "    <tr style=\"text-align: left;\">\n",
       "      <th>epoch</th>\n",
       "      <th>train_loss</th>\n",
       "      <th>valid_loss</th>\n",
       "      <th>accuracy</th>\n",
       "      <th>time</th>\n",
       "    </tr>\n",
       "  </thead>\n",
       "  <tbody>\n",
       "    <tr>\n",
       "      <td>0</td>\n",
       "      <td>0.332930</td>\n",
       "      <td>0.321300</td>\n",
       "      <td>0.861003</td>\n",
       "      <td>30:40</td>\n",
       "    </tr>\n",
       "    <tr>\n",
       "      <td>1</td>\n",
       "      <td>0.312041</td>\n",
       "      <td>0.318390</td>\n",
       "      <td>0.862575</td>\n",
       "      <td>29:26</td>\n",
       "    </tr>\n",
       "  </tbody>\n",
       "</table>"
      ],
      "text/plain": [
       "<IPython.core.display.HTML object>"
      ]
     },
     "metadata": {},
     "output_type": "display_data"
    }
   ],
   "source": [
    "learn.load('sentiment_third');\n",
    "learn.unfreeze()\n",
    "learn.fit_one_cycle(2, slice(1e-3/(2.6**4),1e-3), moms=(0.8,0.7))\n",
    "learn.save('sentiment_fourth')"
   ]
  },
  {
   "cell_type": "markdown",
   "metadata": {},
   "source": [
    "## Model Predictions"
   ]
  },
  {
   "cell_type": "code",
   "execution_count": 23,
   "metadata": {},
   "outputs": [
    {
     "data": {
      "text/plain": [
       "(Category 4, tensor(1), tensor([0.3544, 0.6456]))"
      ]
     },
     "execution_count": 23,
     "metadata": {},
     "output_type": "execute_result"
    }
   ],
   "source": [
    "learn.predict(\"You're not a terrible person. I love you so much\")"
   ]
  },
  {
   "cell_type": "code",
   "execution_count": 28,
   "metadata": {},
   "outputs": [
    {
     "data": {
      "text/plain": [
       "(Category 0, tensor(0), tensor([0.8306, 0.1694]))"
      ]
     },
     "execution_count": 28,
     "metadata": {},
     "output_type": "execute_result"
    }
   ],
   "source": [
    "learn.predict(\"You're a terrible person. I hate you\")"
   ]
  },
  {
   "cell_type": "markdown",
   "metadata": {},
   "source": [
    " "
   ]
  },
  {
   "cell_type": "markdown",
   "metadata": {},
   "source": [
    "    Category 0 - Negative\n",
    "    Category 2 - Neutral\n",
    "    Category 4 - Positive"
   ]
  }
 ],
 "metadata": {
  "kernelspec": {
   "display_name": "Python 3",
   "language": "python",
   "name": "python3"
  },
  "language_info": {
   "codemirror_mode": {
    "name": "ipython",
    "version": 3
   },
   "file_extension": ".py",
   "mimetype": "text/x-python",
   "name": "python",
   "nbconvert_exporter": "python",
   "pygments_lexer": "ipython3",
   "version": "3.7.4"
  }
 },
 "nbformat": 4,
 "nbformat_minor": 2
}
